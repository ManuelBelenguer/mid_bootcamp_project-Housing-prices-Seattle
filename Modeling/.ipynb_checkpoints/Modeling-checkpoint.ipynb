{
 "cells": [
  {
   "cell_type": "markdown",
   "metadata": {},
   "source": [
    "#### Import libraries"
   ]
  },
  {
   "cell_type": "code",
   "execution_count": 208,
   "metadata": {},
   "outputs": [],
   "source": [
    "import pandas as pd\n",
    "import numpy as np\n",
    "from sklearn.preprocessing import Normalizer\n",
    "import seaborn as sns\n",
    "import matplotlib.pyplot as plt\n",
    "from sklearn.metrics import mean_absolute_error, mean_squared_error, r2_score\n",
    "from sklearn.model_selection import train_test_split\n",
    "from sklearn.linear_model import LinearRegression\n",
    "from statsmodels.stats.outliers_influence import variance_inflation_factor\n",
    "from patsy import dmatrices\n",
    "from math import e\n",
    "from haversine import haversine\n",
    "import statistics\n",
    "\n",
    "import warnings\n",
    "warnings.filterwarnings('ignore')\n",
    "warnings.filterwarnings(\"ignore\", message=\"numpy.ufunc size changed\")"
   ]
  },
  {
   "cell_type": "markdown",
   "metadata": {},
   "source": [
    "#### Import csv"
   ]
  },
  {
   "cell_type": "code",
   "execution_count": 209,
   "metadata": {},
   "outputs": [],
   "source": [
    "data = pd.read_csv('../data_clean.csv')"
   ]
  },
  {
   "cell_type": "code",
   "execution_count": 210,
   "metadata": {},
   "outputs": [
    {
     "data": {
      "text/plain": [
       "(21419, 21)"
      ]
     },
     "execution_count": 210,
     "metadata": {},
     "output_type": "execute_result"
    }
   ],
   "source": [
    "data.shape"
   ]
  },
  {
   "cell_type": "markdown",
   "metadata": {},
   "source": [
    "###### Now that we worked on our numerical data, and we understood the correlation between the independent variables and the dependent variable, and we undestood and fixed multicolinearity within some of the dataset variables, we can proceed to treat with categorical data. <br><br> As pointed above, a good candidate for categorical data is the variable grade as is a classification indicator. Also 'zipcode' variable will also be dummified as it's an identifier for the different areas of a city. "
   ]
  },
  {
   "cell_type": "code",
   "execution_count": 211,
   "metadata": {},
   "outputs": [],
   "source": [
    "dummy = pd.get_dummies(data=data[['grade','zipcode']], columns=['grade','zipcode'],drop_first=True)"
   ]
  },
  {
   "cell_type": "code",
   "execution_count": 212,
   "metadata": {},
   "outputs": [],
   "source": [
    "numeric = data.drop(['price','zipcode','grade', 'bathrooms', 'sqft_above', 'id', 'date'], axis=1)"
   ]
  },
  {
   "cell_type": "code",
   "execution_count": 213,
   "metadata": {},
   "outputs": [],
   "source": [
    "#### Try the results for with the dummified data."
   ]
  },
  {
   "cell_type": "code",
   "execution_count": 214,
   "metadata": {},
   "outputs": [],
   "source": [
    "X = pd.concat([numeric, dummy],axis=1)\n",
    "y = data['price']"
   ]
  },
  {
   "cell_type": "code",
   "execution_count": 215,
   "metadata": {},
   "outputs": [],
   "source": [
    "X_train, X_test, y_train, y_test = train_test_split(X, y, test_size=0.3, random_state=43)"
   ]
  },
  {
   "cell_type": "code",
   "execution_count": 216,
   "metadata": {},
   "outputs": [],
   "source": [
    "model = LinearRegression().fit(X_train,y_train)"
   ]
  },
  {
   "cell_type": "code",
   "execution_count": 217,
   "metadata": {},
   "outputs": [],
   "source": [
    "predictions = model.predict(X_test)"
   ]
  },
  {
   "cell_type": "code",
   "execution_count": 218,
   "metadata": {},
   "outputs": [
    {
     "name": "stdout",
     "output_type": "stream",
     "text": [
      "MAE: 90301.911   MSE: 21502364356.073   RMSE: 146636.845   r_sq: 0.842  Adj_r2: 0.841\n"
     ]
    }
   ],
   "source": [
    "MAE = round(mean_absolute_error(y_test, predictions),3)\n",
    "MSE = round(mean_squared_error(y_test, predictions),3)\n",
    "RMSE = round(np.sqrt(MSE),3)\n",
    "r_sq = round(r2_score(y_test,predictions),3)\n",
    "Adj_r2 = round(1-(1-r_sq)*(21420-1)/(21420-97-1),3)\n",
    "print('MAE:',MAE,'  MSE:', MSE, '  RMSE:',RMSE,'  r_sq:',r_sq, ' Adj_r2:', Adj_r2)"
   ]
  },
  {
   "cell_type": "markdown",
   "metadata": {},
   "source": [
    "#### Remove numerical columns"
   ]
  },
  {
   "cell_type": "markdown",
   "metadata": {},
   "source": [
    "###### By dummifying 'grade' and 'zipcode' and using all the numerical values apart from 'sqft_above' and 'bathrooms' we get and R2 of 0.84 and a RMSE of 146636.845. We'll now proceed to see how the model would improve if we were to remove some other variables."
   ]
  },
  {
   "cell_type": "markdown",
   "metadata": {},
   "source": [
    "###### We'll then now see if the model improves by removing some of the numerical values that we might consider repetitive or irrelevant -- > sqft_living15 it refers to a measure taken on the year 2015 and i's very similar to sqft_living which is more correlated with the dependent variable."
   ]
  },
  {
   "cell_type": "code",
   "execution_count": 219,
   "metadata": {},
   "outputs": [],
   "source": [
    "X2 = X.drop(['sqft_living15'],axis=1)\n",
    "y2 = data['price']"
   ]
  },
  {
   "cell_type": "code",
   "execution_count": 220,
   "metadata": {},
   "outputs": [],
   "source": [
    "X_train, X_test, y_train, y_test = train_test_split(X2, y2, test_size=0.3, random_state=43)"
   ]
  },
  {
   "cell_type": "code",
   "execution_count": 221,
   "metadata": {},
   "outputs": [],
   "source": [
    "model = LinearRegression().fit(X_train,y_train)"
   ]
  },
  {
   "cell_type": "code",
   "execution_count": 222,
   "metadata": {},
   "outputs": [],
   "source": [
    "predictions2 = model.predict(X_test)"
   ]
  },
  {
   "cell_type": "code",
   "execution_count": 223,
   "metadata": {},
   "outputs": [
    {
     "name": "stdout",
     "output_type": "stream",
     "text": [
      "MAE: 90358.827   MSE: 21542900905.254   RMSE: 146775.001   r_sq: 0.842  Adj_r2: 0.841\n"
     ]
    }
   ],
   "source": [
    "MAE = round(mean_absolute_error(y_test, predictions2),3)\n",
    "MSE = round(mean_squared_error(y_test, predictions2),3)\n",
    "RMSE = round(np.sqrt(MSE),3)\n",
    "r_sq = round(r2_score(y_test,predictions),3)\n",
    "Adj_r2 = round(1-(1-r_sq)*(21420-1)/(21420-97-1),3)\n",
    "print('MAE:',MAE,'  MSE:', MSE, '  RMSE:',RMSE,'  r_sq:',r_sq, ' Adj_r2:', Adj_r2)"
   ]
  },
  {
   "cell_type": "markdown",
   "metadata": {},
   "source": [
    "###### The model doesn't improves, it actually increases slightly the MAE and the RMSE."
   ]
  },
  {
   "cell_type": "markdown",
   "metadata": {},
   "source": [
    "### Location"
   ]
  },
  {
   "cell_type": "markdown",
   "metadata": {},
   "source": [
    "###### As we have two variables that are not giving us much information at the moment (lat,long) we're going to combine them, and use them to calculate the distance from the property to the significant city centers Bellevue and Seattle,  in order to see if we can extract some more information from them."
   ]
  },
  {
   "cell_type": "code",
   "execution_count": 224,
   "metadata": {},
   "outputs": [],
   "source": [
    "data['location'] = tuple(zip(data['lat'],data['long']))"
   ]
  },
  {
   "cell_type": "code",
   "execution_count": 225,
   "metadata": {},
   "outputs": [],
   "source": [
    "bellevue = tuple([47.61555, -122.20392])\n",
    "type(bellevue)\n",
    "seattle = tuple([47.6062100, -122.3320700])"
   ]
  },
  {
   "cell_type": "code",
   "execution_count": 226,
   "metadata": {},
   "outputs": [
    {
     "data": {
      "text/plain": [
       "[7.622786019543605,\n",
       " 9.041881842429145,\n",
       " 8.561144732081237,\n",
       " 10.979730087958123,\n",
       " 7.402273389165363]"
      ]
     },
     "execution_count": 226,
     "metadata": {},
     "output_type": "execute_result"
    }
   ],
   "source": [
    "bell_distances = []\n",
    "for i in data['location']:\n",
    "    bell_distances.append(haversine((bellevue),(i),unit = 'mi'))\n",
    "bell_distances[:5]"
   ]
  },
  {
   "cell_type": "code",
   "execution_count": 227,
   "metadata": {},
   "outputs": [
    {
     "data": {
      "text/plain": [
       "[7.622786019543605,\n",
       " 9.041881842429145,\n",
       " 8.561144732081237,\n",
       " 10.979730087958123,\n",
       " 7.402273389165363]"
      ]
     },
     "execution_count": 227,
     "metadata": {},
     "output_type": "execute_result"
    }
   ],
   "source": [
    "seattle_distances = []\n",
    "for i in data['location']:\n",
    "    seattle_distances.append(haversine((seattle),(i),unit = 'mi'))\n",
    "bell_distances[:5]"
   ]
  },
  {
   "cell_type": "code",
   "execution_count": 228,
   "metadata": {},
   "outputs": [],
   "source": [
    "numeric['distance_from_bellevue'] = pd.Series(bell_distances)\n",
    "numeric['distance_from_seattle'] = pd.Series(seattle_distances)"
   ]
  },
  {
   "cell_type": "code",
   "execution_count": 235,
   "metadata": {},
   "outputs": [],
   "source": [
    "numeric = numeric.drop(['lat','long'],axis=1)"
   ]
  },
  {
   "cell_type": "code",
   "execution_count": 236,
   "metadata": {},
   "outputs": [],
   "source": [
    "X_train, X_test, y_train, y_test = train_test_split(X, y, test_size=0.3, random_state=43)"
   ]
  },
  {
   "cell_type": "code",
   "execution_count": 237,
   "metadata": {},
   "outputs": [],
   "source": [
    "model = LinearRegression().fit(X_train,y_train)"
   ]
  },
  {
   "cell_type": "code",
   "execution_count": 238,
   "metadata": {},
   "outputs": [],
   "source": [
    "predictions = model.predict(X_test)"
   ]
  },
  {
   "cell_type": "code",
   "execution_count": 239,
   "metadata": {},
   "outputs": [
    {
     "name": "stdout",
     "output_type": "stream",
     "text": [
      "MAE: 90301.911   MSE: 21502364356.073   RMSE: 146636.845   r_sq: 0.842  Adj_r2: 0.841\n"
     ]
    }
   ],
   "source": [
    "MAE = round(mean_absolute_error(y_test, predictions),3)\n",
    "MSE = round(mean_squared_error(y_test, predictions),3)\n",
    "RMSE = round(np.sqrt(MSE),3)\n",
    "r_sq = round(r2_score(y_test,predictions),3)\n",
    "Adj_r2 = round(1-(1-r_sq)*(21420-1)/(21420-97-1),3)\n",
    "print('MAE:',MAE,'  MSE:', MSE, '  RMSE:',RMSE,'  r_sq:',r_sq, ' Adj_r2:', Adj_r2)"
   ]
  },
  {
   "cell_type": "markdown",
   "metadata": {},
   "source": [
    "###### In my particular case the model didn't improve that much as I did first the dummifying for the categorical columns zipcode and grade."
   ]
  },
  {
   "cell_type": "markdown",
   "metadata": {},
   "source": [
    "### Log Transformation"
   ]
  },
  {
   "cell_type": "markdown",
   "metadata": {},
   "source": [
    "###### As we observed above, the continous values don't have a normal distribution, this might hurt the performance of the model. We'll now perform some logarithmic transformations in order to see if the model improves."
   ]
  },
  {
   "cell_type": "code",
   "execution_count": 180,
   "metadata": {},
   "outputs": [],
   "source": [
    "numeric2 = numeric"
   ]
  },
  {
   "cell_type": "code",
   "execution_count": 181,
   "metadata": {},
   "outputs": [],
   "source": [
    "numeric2['log_sqft_living'] = np.log(numeric2['sqft_living'])\n",
    "numeric2['log_sqft_lot'] = np.log(numeric2['sqft_lot'])\n",
    "y = np.log(data['price'])"
   ]
  },
  {
   "cell_type": "code",
   "execution_count": 182,
   "metadata": {},
   "outputs": [
    {
     "data": {
      "image/png": "[encoded data removed]",
      "text/plain": [
       "<Figure size 432x288 with 1 Axes>"
      ]
     },
     "metadata": {
      "needs_background": "light"
     },
     "output_type": "display_data"
    },
    {
     "data": {
      "image/png": "[encoded data removed]",
      "text/plain": [
       "<Figure size 432x288 with 1 Axes>"
      ]
     },
     "metadata": {
      "needs_background": "light"
     },
     "output_type": "display_data"
    }
   ],
   "source": [
    "sns.distplot(data['sqft_living'])\n",
    "plt.show()\n",
    "sns.distplot(numeric['log_sqft_living'])\n",
    "plt.show()"
   ]
  },
  {
   "cell_type": "code",
   "execution_count": 183,
   "metadata": {},
   "outputs": [
    {
     "data": {
      "image/png": "[encoded data removed]",
      "text/plain": [
       "<Figure size 432x288 with 1 Axes>"
      ]
     },
     "metadata": {
      "needs_background": "light"
     },
     "output_type": "display_data"
    },
    {
     "data": {
      "image/png": "[encoded data removed]",
      "text/plain": [
       "<Figure size 432x288 with 1 Axes>"
      ]
     },
     "metadata": {
      "needs_background": "light"
     },
     "output_type": "display_data"
    }
   ],
   "source": [
    "sns.distplot(data['sqft_lot'])\n",
    "plt.show()\n",
    "sns.distplot(numeric['log_sqft_lot'])\n",
    "plt.show()"
   ]
  },
  {
   "cell_type": "code",
   "execution_count": 184,
   "metadata": {},
   "outputs": [
    {
     "data": {
      "image/png": "[encoded data removed]",
      "text/plain": [
       "<Figure size 432x288 with 1 Axes>"
      ]
     },
     "metadata": {
      "needs_background": "light"
     },
     "output_type": "display_data"
    },
    {
     "data": {
      "image/png": "[encoded data removed]",
      "text/plain": [
       "<Figure size 432x288 with 1 Axes>"
      ]
     },
     "metadata": {
      "needs_background": "light"
     },
     "output_type": "display_data"
    }
   ],
   "source": [
    "sns.distplot(data['price'])\n",
    "plt.show()\n",
    "sns.distplot(y)\n",
    "plt.show()"
   ]
  },
  {
   "cell_type": "code",
   "execution_count": 185,
   "metadata": {},
   "outputs": [],
   "source": [
    "X = pd.concat([numeric2, dummy],axis=1).drop(['sqft_living','sqft_lot'], axis=1)"
   ]
  },
  {
   "cell_type": "markdown",
   "metadata": {},
   "source": [
    "###### Then remove the variables that have being transformed to its logarithms."
   ]
  },
  {
   "cell_type": "code",
   "execution_count": 186,
   "metadata": {},
   "outputs": [],
   "source": [
    "X_train, X_test, y_train, y_test = train_test_split(X, y, test_size=0.3, random_state=43)"
   ]
  },
  {
   "cell_type": "code",
   "execution_count": 187,
   "metadata": {},
   "outputs": [],
   "source": [
    "model = LinearRegression().fit(X_train,y_train)"
   ]
  },
  {
   "cell_type": "code",
   "execution_count": 195,
   "metadata": {},
   "outputs": [],
   "source": [
    "predictions = e**(model.predict(X_test))\n",
    "y_test = e**(y_test)"
   ]
  },
  {
   "cell_type": "code",
   "execution_count": 189,
   "metadata": {},
   "outputs": [
    {
     "name": "stdout",
     "output_type": "stream",
     "text": [
      "MAE: 71946.599   MSE: 15112286722.271   RMSE: 122932.041   r_sq: 0.889  Adj_r2: 0.888\n"
     ]
    }
   ],
   "source": [
    "MAE = round(mean_absolute_error(y_test, predictions),3)\n",
    "MSE = round(mean_squared_error(y_test, predictions),3)\n",
    "RMSE = round(np.sqrt(MSE),3)\n",
    "r_sq = round(r2_score(y_test,predictions),3)\n",
    "Adj_r2 = round(1-(1-r_sq)*(21420-1)/(21420-97-1),3)\n",
    "print('MAE:',MAE,'  MSE:', MSE, '  RMSE:',RMSE,'  r_sq:',r_sq, ' Adj_r2:', Adj_r2)"
   ]
  },
  {
   "cell_type": "code",
   "execution_count": 147,
   "metadata": {},
   "outputs": [],
   "source": [
    "y_t = list(y_test)\n",
    "y_pred = predictions"
   ]
  },
  {
   "cell_type": "code",
   "execution_count": 148,
   "metadata": {},
   "outputs": [
    {
     "data": {
      "text/plain": [
       "0.13326027267976528"
      ]
     },
     "execution_count": 148,
     "metadata": {},
     "output_type": "execute_result"
    }
   ],
   "source": [
    "relative_error = []\n",
    "for j in range(len(predictions)):\n",
    "    relative_error.append(abs(y_t[j] - y_pred[j])/y_t[j])\n",
    "rel_e = statistics.mean(relative_error)\n",
    "rel_e"
   ]
  },
  {
   "cell_type": "code",
   "execution_count": 198,
   "metadata": {},
   "outputs": [],
   "source": [
    "test_results = pd.DataFrame(y_test)\n",
    "t_results.rename(columns={'index':'id'}, inplace=True)\n",
    "t_results['predictions'] = predictions\n",
    "t_results['predictions'] = t_results['predictions'].map(lambda x: round(x,2))\n",
    "t_results['rel_error'] = relative_error"
   ]
  },
  {
   "cell_type": "code",
   "execution_count": 201,
   "metadata": {},
   "outputs": [
    {
     "data": {
      "text/html": [
       "<div>\n",
       "<style scoped>\n",
       "    .dataframe tbody tr th:only-of-type {\n",
       "        vertical-align: middle;\n",
       "    }\n",
       "\n",
       "    .dataframe tbody tr th {\n",
       "        vertical-align: top;\n",
       "    }\n",
       "\n",
       "    .dataframe thead th {\n",
       "        text-align: right;\n",
       "    }\n",
       "</style>\n",
       "<table border=\"1\" class=\"dataframe\">\n",
       "  <thead>\n",
       "    <tr style=\"text-align: right;\">\n",
       "      <th></th>\n",
       "      <th>id</th>\n",
       "      <th>price</th>\n",
       "      <th>predictions</th>\n",
       "      <th>rel_error</th>\n",
       "    </tr>\n",
       "  </thead>\n",
       "  <tbody>\n",
       "    <tr>\n",
       "      <th>0</th>\n",
       "      <td>7237</td>\n",
       "      <td>260000.0</td>\n",
       "      <td>303061.24</td>\n",
       "      <td>0.165620</td>\n",
       "    </tr>\n",
       "    <tr>\n",
       "      <th>1</th>\n",
       "      <td>5099</td>\n",
       "      <td>565000.0</td>\n",
       "      <td>572478.87</td>\n",
       "      <td>0.013237</td>\n",
       "    </tr>\n",
       "    <tr>\n",
       "      <th>2</th>\n",
       "      <td>2965</td>\n",
       "      <td>320000.0</td>\n",
       "      <td>417043.71</td>\n",
       "      <td>0.303262</td>\n",
       "    </tr>\n",
       "    <tr>\n",
       "      <th>3</th>\n",
       "      <td>5215</td>\n",
       "      <td>220000.0</td>\n",
       "      <td>256023.33</td>\n",
       "      <td>0.163742</td>\n",
       "    </tr>\n",
       "    <tr>\n",
       "      <th>4</th>\n",
       "      <td>20647</td>\n",
       "      <td>616950.0</td>\n",
       "      <td>565703.09</td>\n",
       "      <td>0.083065</td>\n",
       "    </tr>\n",
       "  </tbody>\n",
       "</table>\n",
       "</div>"
      ],
      "text/plain": [
       "      id     price  predictions  rel_error\n",
       "0   7237  260000.0    303061.24   0.165620\n",
       "1   5099  565000.0    572478.87   0.013237\n",
       "2   2965  320000.0    417043.71   0.303262\n",
       "3   5215  220000.0    256023.33   0.163742\n",
       "4  20647  616950.0    565703.09   0.083065"
      ]
     },
     "execution_count": 201,
     "metadata": {},
     "output_type": "execute_result"
    }
   ],
   "source": [
    "t_results.to_csv('predictions_errors.csv', index=False)\n",
    "t_results.head()"
   ]
  },
  {
   "cell_type": "code",
   "execution_count": 206,
   "metadata": {},
   "outputs": [
    {
     "data": {
      "text/plain": [
       "<AxesSubplot:xlabel='rel_error', ylabel='price'>"
      ]
     },
     "execution_count": 206,
     "metadata": {},
     "output_type": "execute_result"
    },
    {
     "data": {
      "image/png": "[encoded data removed]",
      "text/plain": [
       "<Figure size 432x288 with 1 Axes>"
      ]
     },
     "metadata": {
      "needs_background": "light"
     },
     "output_type": "display_data"
    }
   ],
   "source": [
    "sns.scatterplot(data = t_results, x = \"rel_error\", y = \"price\", hue = 'rel_error')"
   ]
  }
 ],
 "metadata": {
  "kernelspec": {
   "display_name": "Python 3",
   "language": "python",
   "name": "python3"
  },
  "language_info": {
   "codemirror_mode": {
    "name": "ipython",
    "version": 3
   },
   "file_extension": ".py",
   "mimetype": "text/x-python",
   "name": "python",
   "nbconvert_exporter": "python",
   "pygments_lexer": "ipython3",
   "version": "3.8.5"
  }
 },
 "nbformat": 4,
 "nbformat_minor": 4
}
